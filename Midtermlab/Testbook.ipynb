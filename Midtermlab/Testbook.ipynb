{
 "cells": [
  {
   "cell_type": "code",
   "execution_count": 29,
   "metadata": {
    "collapsed": false
   },
   "outputs": [],
   "source": [
    "# Title: CSE5539 Midterm Lab Fundamental frequency detection with correlogram\n",
    "# Author: Yiran Lawrence Luo\n",
    "# Date: Mar 1, 2016\n",
    "# External libraries used: NumPy, Matplotlib\n",
    "\n",
    "import numpy as np\n",
    "import math\n",
    "import matplotlib.pyplot as plt\n",
    "\n",
    "# The assumed channel frequencies in log scale\n",
    "freq = np.logspace(math.log(80), math.log(4000), base = math.exp(1), num=64)"
   ]
  },
  {
   "cell_type": "code",
   "execution_count": 32,
   "metadata": {
    "collapsed": false
   },
   "outputs": [],
   "source": [
    "# Loads the .dat cell model file\n",
    "vowel_name = 'ar0'\n",
    "\n",
    "# Read the r(i, j) values\n",
    "cell_data = []\n",
    "with open(vowel_name + '.dat') as f:\n",
    "    for i in range(64):\n",
    "        temp_list = []\n",
    "        for j in range(325):\n",
    "            x = f.readline()\n",
    "            temp_list.append(float(x))\n",
    "        cell_data.append(temp_list)\n",
    "\n",
    "# Technically we are slicing at the very last time step,\n",
    "# which means j = 325 - 1\n",
    "j = 324\n",
    "channel_data_list = []\n",
    "for i in range(64):\n",
    "    channel_data = []\n",
    "    for l in range(125):\n",
    "        point = 0.0\n",
    "        for k in range(200):\n",
    "            # Calculate the auto-correlation value at this channel and this lag time\n",
    "            point += cell_data[i][j-k] * cell_data[i][j-k-l] * 0.02\n",
    "        # Offsets each line at above the assumed center frequency\n",
    "        channel_data.append(point/10000 + freq[i])\n",
    "        \n",
    "    # Plot the wave for each channel into the correlogram\n",
    "    plt.plot(range(125),channel_data,'r-')\n",
    "    channel_data_list.append(channel_data)\n",
    "\n",
    "\n",
    "\n",
    "plt.yscale('log')\n",
    "plt.axis([0, 125, 80, 4100])\n",
    "plt.yticks([80,216,584,1575,4000],[80,216,584,1575,4000])\n",
    "plt.xticks([0,25,50,75,100,125],[0,2.5,5.0,7.5,10.0,12.5])\n",
    "plt.title('Correlogram of ' + vowel_name)\n",
    "plt.ylabel('Channel center frequency (Hz)')\n",
    "plt.xlabel('Lag (msec)')\n",
    "plt.savefig(vowel_name + '.png')\n",
    "plt.close()\n"
   ]
  },
  {
   "cell_type": "code",
   "execution_count": 35,
   "metadata": {
    "collapsed": false
   },
   "outputs": [
    {
     "name": "stdout",
     "output_type": "stream",
     "text": [
      "The max correlation is at lag time step:  64\n"
     ]
    }
   ],
   "source": [
    "# Now plot the pooled correlation values\n",
    "lag_list = []\n",
    "for l in range(125):\n",
    "    lag_sum = 0.5\n",
    "    for i in range(64):\n",
    "        lag_sum += channel_data_list[i][l]\n",
    "    lag_list.append(lag_sum)\n",
    "\n",
    "# Output at what lag time the correlation value hits the peak\n",
    "# Zero lag is omitted\n",
    "print \"The max correlation is at lag time step:\", \n",
    "print lag_list.index(max(lag_list[1:]))\n",
    "\n",
    "plt.plot(range(125),lag_list,'r-')\n",
    "axes = plt.gca()\n",
    "axes.set_xlim([0, 125])\n",
    "plt.xticks([0,25,50,75,100,125],[0,2.5,5.0,7.5,10.0,12.5])\n",
    "plt.gca().yaxis.set_major_locator(plt.NullLocator())\n",
    "plt.title('Pooled Correlogram of ' + vowel_name)\n",
    "plt.xlabel('Lag (msec)')\n",
    "plt.savefig(vowel_name + '_pooled.png')"
   ]
  },
  {
   "cell_type": "code",
   "execution_count": 25,
   "metadata": {
    "collapsed": true
   },
   "outputs": [],
   "source": []
  },
  {
   "cell_type": "code",
   "execution_count": null,
   "metadata": {
    "collapsed": true
   },
   "outputs": [],
   "source": []
  }
 ],
 "metadata": {
  "kernelspec": {
   "display_name": "Python 2",
   "language": "python",
   "name": "python2"
  },
  "language_info": {
   "codemirror_mode": {
    "name": "ipython",
    "version": 2
   },
   "file_extension": ".py",
   "mimetype": "text/x-python",
   "name": "python",
   "nbconvert_exporter": "python",
   "pygments_lexer": "ipython2",
   "version": "2.7.11"
  }
 },
 "nbformat": 4,
 "nbformat_minor": 0
}
